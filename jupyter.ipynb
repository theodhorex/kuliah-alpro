{
 "cells": [
  {
   "cell_type": "code",
   "execution_count": null,
   "metadata": {},
   "outputs": [],
   "source": [
    "def perkalian(angkaSatu, angkaDua):\n",
    "    hasil = 0\n",
    "    for i in range(angkaDua):\n",
    "        hasil += angkaSatu\n",
    "        if i != 0:\n",
    "            print(\"+\", angkaSatu, end=\" \")\n",
    "        else:\n",
    "            print(angkaSatu, end=\" \")\n",
    "            \n",
    "    print(f\"= {hasil}\")\n",
    "\n",
    "perkalian(2, 5)"
   ]
  },
  {
   "cell_type": "code",
   "execution_count": null,
   "metadata": {},
   "outputs": [],
   "source": [
    "def perhitunganIPS():\n",
    "    nilaiMatkul = []\n",
    "    jumlahMatkul = int(input(\"Masukan jumlah mata kuliah: \"))\n",
    "    \n",
    "    for i in range(jumlahMatkul):\n",
    "        inputNilai = input(\"Masukan nilai mata kuliah ke{} (A/B/C/D): \".format(i+1))\n",
    "        if inputNilai.upper() == 'A':\n",
    "            nilaiAngka = 4\n",
    "        elif inputNilai.upper() == 'B':\n",
    "            nilaiAngka = 3\n",
    "        elif inputNilai.upper() == 'C':\n",
    "            nilaiAngka = 2\n",
    "        elif inputNilai.upper() == 'D':\n",
    "            nilaiAngka = 1\n",
    "        else:\n",
    "            print(\"Nilai tidak valid!\")\n",
    "            return\n",
    "\n",
    "        nilaiMatkul.append(nilaiAngka)\n",
    "\n",
    "    bobot = sum(nilaiMatkul)\n",
    "    sks = jumlahMatkul * 3\n",
    "\n",
    "    return bobot / sks\n",
    "    \n",
    "    \n",
    "if __name__ == \"__main__\":\n",
    "    ips = perhitunganIPS()    \n",
    "    print(f\"IPS semester ini adalah: {ips:.2f}\")"
   ]
  },
  {
   "cell_type": "code",
   "execution_count": null,
   "metadata": {},
   "outputs": [],
   "source": [
    "def ganjil(batasAtas, batasBawah):\n",
    "    if batasAtas > batasBawah:\n",
    "        for i in range(batasBawah + 1, batasAtas, 2):\n",
    "            print(i)\n",
    "    elif batasBawah > batasAtas:\n",
    "        for i in range(batasBawah, batasAtas - 1, -2):\n",
    "            print(i)\n",
    "    \n",
    "# ganjil(5, 15)\n",
    "ganjil(15, 5)"
   ]
  }
 ],
 "metadata": {
  "kernelspec": {
   "display_name": "Python 3",
   "language": "python",
   "name": "python3"
  },
  "language_info": {
   "name": "python",
   "version": "3.10.12"
  }
 },
 "nbformat": 4,
 "nbformat_minor": 2
}
