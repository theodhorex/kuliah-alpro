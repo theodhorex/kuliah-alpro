{
 "cells": [
  {
   "cell_type": "code",
   "execution_count": null,
   "metadata": {},
   "outputs": [],
   "source": [
    "# Menentukan demam atau tidak dari suhu badan\n",
    "\n",
    "def demamAtauTidak():\n",
    "    try:\n",
    "        suhuBadan = float(input(\"Masukkan suhu badan: \"))\n",
    "        \n",
    "        if suhuBadan >= 38:\n",
    "            print(\"Suhu badan anda\", suhuBadan, \"maka anda sedang demam!\")\n",
    "        else:\n",
    "            print(\"Suhu badan anda\", suhuBadan, \"maka anda sedang tidak demam!\")\n",
    "    except ValueError:\n",
    "        print(\"Masukkan suhu yang benar!\")\n",
    "\n",
    "try:\n",
    "    demamAtauTidak()\n",
    "except Exception as e:\n",
    "    print(\"Error ngab!!\", e)\n"
   ]
  },
  {
   "cell_type": "code",
   "execution_count": null,
   "metadata": {},
   "outputs": [],
   "source": [
    "# Mencari nilai Positif atau Negatif\n",
    "\n",
    "def positifAtauNegatif():\n",
    "    try:\n",
    "        nilai = int(input(\"Masukan nilai: \"))\n",
    "        if nilai > 0:\n",
    "            print(nilai, \"adalah sebuah bilangan positif!\")\n",
    "        else:\n",
    "            print(nilai, \"adalah sebuah bilangan negatif!\")\n",
    "    except ValueError:\n",
    "        print(\"Masukan nilai yang benar!\")\n",
    "\n",
    "try:\n",
    "    positifAtauNegatif()\n",
    "except Exception as e:\n",
    "    print(\"Error ngab!!\", e)"
   ]
  },
  {
   "cell_type": "code",
   "execution_count": null,
   "metadata": {},
   "outputs": [],
   "source": [
    "# Mencari Nilai Terbesar\n",
    "\n",
    "def nilaiTerbesar():\n",
    "    try:\n",
    "        a = int(input(\"Masukan nilai a: \"))\n",
    "        b = int(input(\"Masukan nilai b: \"))\n",
    "        c = int(input(\"Masukan nilai c: \"))\n",
    "\n",
    "        if (a > b) and (a > c):\n",
    "            print(a, \"adalah bilangan terbesar!\")\n",
    "        elif (b > a) and (b > c):\n",
    "            print(b, \"adalah bilangan terbesar!\")\n",
    "        elif (c > a) and (c > b):\n",
    "            print(c, \"adalah bilangan terbesar!\")\n",
    "    except ValueError:\n",
    "        print(\"Masukan bilangan bulat bukan bilangan pecahan\")\n",
    "        \n",
    "try:\n",
    "    nilaiTerbesar()\n",
    "except Exception as e:\n",
    "    print(\"Error ngab!\", e)"
   ]
  }
 ],
 "metadata": {
  "kernelspec": {
   "display_name": "Python 3",
   "language": "python",
   "name": "python3"
  },
  "language_info": {
   "name": "python",
   "version": "3.10.12"
  }
 },
 "nbformat": 4,
 "nbformat_minor": 2
}
