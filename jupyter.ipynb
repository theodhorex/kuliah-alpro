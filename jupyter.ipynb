{
 "cells": [
  {
   "cell_type": "code",
   "execution_count": null,
   "metadata": {},
   "outputs": [],
   "source": [
    "def cek_angka(a, b, c):\n",
    "    if a != b and a != c and b != c:\n",
    "        if a + b == c or a + c == b or b + c == a:\n",
    "            return True\n",
    "    return False\n",
    "\n",
    "print(cek_angka(1, 2, 3)) \n",
    "print(cek_angka(1, 2, 4)) "
   ]
  },
  {
   "cell_type": "code",
   "execution_count": null,
   "metadata": {},
   "outputs": [],
   "source": [
    "def cek_digit_belakang(a, b, c):\n",
    "    digit_a = a % 10\n",
    "    digit_b = b % 10\n",
    "    digit_c = c % 10\n",
    "    \n",
    "    if digit_a == digit_b or digit_a == digit_c or digit_b == digit_c:\n",
    "        return True\n",
    "    else:\n",
    "        return False\n",
    "\n",
    "input1 = int(input(\"Masukkan angka 1: \"))\n",
    "input2 = int(input(\"Masukkan angka 2: \"))\n",
    "input3 = int(input(\"Masukkan angka 3: \"))\n",
    "\n",
    "hasil = cek_digit_belakang(input1, input2, input3)\n",
    "print(hasil)"
   ]
  },
  {
   "cell_type": "code",
   "execution_count": null,
   "metadata": {},
   "outputs": [],
   "source": [
    "fahrenheit = lambda c: (9/5) * c + 32\n",
    "reamur = lambda c: 0.8 * c\n",
    "\n",
    "celsius = [100, 80]\n",
    "print(\"Celcius =\", celsius[0], \"Adalah Fahrenheit =\", fahrenheit(celsius[0]))\n",
    "\n",
    "print(\"Celcius =\", celsius[1], \"Adalah Reamur =\", reamur(celsius[1]))"
   ]
  }
 ],
 "metadata": {
  "kernelspec": {
   "display_name": "Python 3",
   "language": "python",
   "name": "python3"
  },
  "language_info": {
   "name": "python",
   "version": "3.10.12"
  }
 },
 "nbformat": 4,
 "nbformat_minor": 2
}
