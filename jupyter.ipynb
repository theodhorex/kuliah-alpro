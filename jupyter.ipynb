{
 "cells": [
  {
   "cell_type": "code",
   "execution_count": null,
   "metadata": {},
   "outputs": [],
   "source": [
    "def cekPrima(num):\n",
    "    if num <= 1:\n",
    "        return False\n",
    "    for i in range(2, int(num**0.5) + 1):\n",
    "        if num % i == 0:\n",
    "            return False\n",
    "    return True\n",
    "\n",
    "def primaTerdekat(n):\n",
    "    if n <= 2:\n",
    "        return None\n",
    "\n",
    "    closest_prime = None\n",
    "    for i in range(n - 1, 1, -1):\n",
    "        if cekPrima(i):\n",
    "            closest_prime = i\n",
    "            break\n",
    "\n",
    "    return closest_prime\n",
    "\n",
    "n = int(input(\"Masukkan bilangan: \"))\n",
    "\n",
    "closest_prime = primaTerdekat(n)\n",
    "if closest_prime:\n",
    "    print(f\"Bilangan prima terdekat dari {n} adalah {closest_prime}.\")\n",
    "else:\n",
    "    print(f\"Tidak ada bilangan prima terdekat yang kurang dari {n}.\")\n"
   ]
  },
  {
   "cell_type": "code",
   "execution_count": null,
   "metadata": {},
   "outputs": [],
   "source": [
    "def faktor(num):\n",
    "    if num == 0 or num == 1:\n",
    "        return 1\n",
    "    else:\n",
    "        return num * faktor(num - 1)\n",
    "\n",
    "def baris(n):\n",
    "    for i in range(n, 1, -1):\n",
    "        result = faktor(i)\n",
    "        print(result, end=\" \")\n",
    "        for j in range(i, 0, -1):\n",
    "            print(j, end=\" \")\n",
    "        print()\n",
    "\n",
    "nilai = int(input(\"Masukan nilai: \"))\n",
    "baris(nilai)\n"
   ]
  },
  {
   "cell_type": "code",
   "execution_count": null,
   "metadata": {},
   "outputs": [],
   "source": [
    "def deret(tinggi, lebar):\n",
    "    start = 1\n",
    "    for i in range(tinggi):\n",
    "        for j in range(lebar):\n",
    "            print(start, end=\" \")\n",
    "            start += 1\n",
    "        print()\n",
    "\n",
    "tinggi = int(input(\"Masukkan tinggi deret: \"))\n",
    "lebar = int(input(\"Masukkan lebar deret: \"))\n",
    "deret(tinggi, lebar)\n"
   ]
  }
 ],
 "metadata": {
  "kernelspec": {
   "display_name": "Python 3",
   "language": "python",
   "name": "python3"
  },
  "language_info": {
   "name": "python",
   "version": "3.10.12"
  }
 },
 "nbformat": 4,
 "nbformat_minor": 2
}
