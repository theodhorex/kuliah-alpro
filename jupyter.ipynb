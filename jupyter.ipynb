{
 "cells": [
  {
   "cell_type": "code",
   "execution_count": null,
   "metadata": {},
   "outputs": [],
   "source": [
    "def anagram(kata1, kata2):\n",
    "    kata1 = kata1.lower()\n",
    "    kata2 = kata2.lower()\n",
    "    \n",
    "    x1 = sorted(kata1)\n",
    "    x2 = sorted(kata2)\n",
    "    \n",
    "    if x1 == x2:\n",
    "        return True\n",
    "    else:\n",
    "        return False\n",
    "\n",
    "kata1 = input(\"Masukkan kata pertama: \")\n",
    "kata2 = input(\"Masukkan kata kedua: \")\n",
    "\n",
    "if anagram(kata1, kata2):\n",
    "    print(f\"{kata1} dan {kata2} adalah anagram.\")\n",
    "else:\n",
    "    print(f\"{kata1} dan {kata2} bukan anagram.\")\n"
   ]
  },
  {
   "cell_type": "code",
   "execution_count": null,
   "metadata": {},
   "outputs": [],
   "source": [
    "import re\n",
    "\n",
    "def mencariFrekuensiKata(kalimat, kata):\n",
    "    kalimat = re.sub(r'[^\\w\\s]', '', kalimat)\n",
    "    kataKalimat = kalimat.lower().split()\n",
    "    frekuensi = sum(1 for word in kataKalimat if word == kata.lower())\n",
    "    return frekuensi\n",
    "\n",
    "kalimat = \"Saya mau makan. Makan itu wajib. Mau siang atau malam saya wajib makan\"\n",
    "kataYangDicari = input(\"Masukan kata yang ingin dicari: \")\n",
    "\n",
    "jumlahKataYangMuncul = mencariFrekuensiKata(kalimat, kataYangDicari)\n",
    "\n",
    "print(f\"Kata '{kataYangDicari}' muncul sebanyak {jumlahKataYangMuncul} kali dalam kalimat.\")\n"
   ]
  },
  {
   "cell_type": "code",
   "execution_count": null,
   "metadata": {},
   "outputs": [],
   "source": [
    "def hapusSpasiBerlebih(kalimat):\n",
    "    kalimat = ' '.join(kalimat.split())\n",
    "    return kalimat\n",
    "\n",
    "kalimat = input(\"Masukkan kalimat: \")\n",
    "\n",
    "yangSudahDihapusSpasinya = hapusSpasiBerlebih(kalimat)\n",
    "\n",
    "print(yangSudahDihapusSpasinya)\n"
   ]
  },
  {
   "cell_type": "code",
   "execution_count": null,
   "metadata": {},
   "outputs": [],
   "source": [
    "def cariKataTerpendekTerpanjang(kalimat):\n",
    "    kataKalimat = kalimat.split()\n",
    "    kataTerpendek = min(kataKalimat, key=len)\n",
    "    kataTerpanjang = max(kataKalimat, key=len)\n",
    "    return kataTerpendek, kataTerpanjang\n",
    "\n",
    "kalimatInput = input(\"Masukkan kalimat: \")\n",
    "\n",
    "kataTerpendek, kataTerpanjang = cariKataTerpendekTerpanjang(kalimatInput)\n",
    "\n",
    "print(f\"Terpendek: {kataTerpendek}, Terpanjang: {kataTerpanjang}\")\n"
   ]
  }
 ],
 "metadata": {
  "kernelspec": {
   "display_name": "Python 3",
   "language": "python",
   "name": "python3"
  },
  "language_info": {
   "name": "python",
   "version": "3.10.12"
  }
 },
 "nbformat": 4,
 "nbformat_minor": 2
}
